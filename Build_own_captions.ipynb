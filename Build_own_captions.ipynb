{
 "cells": [
  {
   "cell_type": "code",
   "execution_count": 1,
   "metadata": {},
   "outputs": [
    {
     "name": "stdout",
     "output_type": "stream",
     "text": [
      "Hugginface transformers not installed; please visit https://github.com/huggingface/transformers\n",
      "Warning: coco-caption not available\n",
      "cider or coco-caption missing\n",
      "DataLoaderRaw loading images from folder:  test_images\n",
      "0\n",
      "listing all images in directory test_images\n",
      "DataLoaderRaw found  13  images\n",
      "cp \"test_images/9986.jpg\" vis/imgs/img1.jpg\n",
      "image test_images/9986.jpg: a man and a woman standing next to a dog\n",
      "cp \"test_images/9989.jpg\" vis/imgs/img2.jpg\n",
      "image test_images/9989.jpg: a man sitting at a table with a cell phone\n",
      "cp \"test_images/9987.jpg\" vis/imgs/img3.jpg\n",
      "image test_images/9987.jpg: a man standing on front of a car\n",
      "cp \"test_images/9990.jpg\" vis/imgs/img4.jpg\n",
      "image test_images/9990.jpg: a woman standing next to a man in a street\n",
      "cp \"test_images/9988.jpg\" vis/imgs/img5.jpg\n",
      "image test_images/9988.jpg: a man is wearing a suit and tie in a field\n",
      "cp \"test_images/9985.jpg\" vis/imgs/img6.jpg\n",
      "image test_images/9985.jpg: a man and a woman standing next to a man\n",
      "cp \"test_images/9991.jpg\" vis/imgs/img7.jpg\n",
      "image test_images/9991.jpg: a man is sitting on a horse in a street\n",
      "cp \"test_images/9995.jpg\" vis/imgs/img8.jpg\n",
      "image test_images/9995.jpg: a man sitting on a table with a laptop\n",
      "cp \"test_images/9994.jpg\" vis/imgs/img9.jpg\n",
      "image test_images/9994.jpg: a man standing in a room with a tie\n",
      "cp \"test_images/9983.jpg\" vis/imgs/img10.jpg\n",
      "image test_images/9983.jpg: a man is standing in front of a frisbee\n",
      "evaluating validation preformance... 10/10 (0.000000)\n",
      "loss:  0.0\n"
     ]
    }
   ],
   "source": [
    "!python3 eval.py --model model/model.pth --infos_path model/infos.pkl --image_folder test_images --num_images 10"
   ]
  },
  {
   "cell_type": "code",
   "execution_count": null,
   "metadata": {},
   "outputs": [],
   "source": [
    "pwd\n"
   ]
  },
  {
   "cell_type": "code",
   "execution_count": 5,
   "metadata": {},
   "outputs": [
    {
     "name": "stdout",
     "output_type": "stream",
     "text": [
      "Hugginface transformers not installed; please visit https://github.com/huggingface/transformers\n",
      "Warning: coco-caption not available\n",
      "cider or coco-caption missing\n",
      "loading annotations into memory...\n",
      "Done (t=0.32s)\n",
      "creating index...\n",
      "index created!\n",
      "Traceback (most recent call last):\n",
      "  File \"eval.py\", line 74, in <module>\n",
      "    lang_stats = eval_utils.language_eval(opt.input_json, predictions, n_predictions, vars(opt), opt.split)\n",
      "  File \"/home/dobby/ImageCaptioning/captioning/utils/eval_utils.py\", line 79, in language_eval\n",
      "    mean_perplexity = sum([_['perplexity'] for _ in preds_filt]) / len(preds_filt)\n",
      "ZeroDivisionError: division by zero\n"
     ]
    }
   ],
   "source": [
    "!python3 eval.py --model model/model.pth --infos_path model/infos.pkl --image_folder test_images --num_images 10"
   ]
  },
  {
   "cell_type": "code",
   "execution_count": null,
   "metadata": {},
   "outputs": [],
   "source": []
  }
 ],
 "metadata": {
  "kernelspec": {
   "display_name": "Python 3",
   "language": "python",
   "name": "python3"
  },
  "language_info": {
   "codemirror_mode": {
    "name": "ipython",
    "version": 3
   },
   "file_extension": ".py",
   "mimetype": "text/x-python",
   "name": "python",
   "nbconvert_exporter": "python",
   "pygments_lexer": "ipython3",
   "version": "3.6.9"
  }
 },
 "nbformat": 4,
 "nbformat_minor": 4
}
